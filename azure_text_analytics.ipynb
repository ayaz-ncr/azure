{
  "nbformat": 4,
  "nbformat_minor": 0,
  "metadata": {
    "colab": {
      "name": "azure-text-analytics.ipynb",
      "provenance": [],
      "authorship_tag": "ABX9TyOxhLJP07wef+RvyBUyiFSK",
      "include_colab_link": true
    },
    "kernelspec": {
      "name": "python3",
      "display_name": "Python 3"
    }
  },
  "cells": [
    {
      "cell_type": "markdown",
      "metadata": {
        "id": "view-in-github",
        "colab_type": "text"
      },
      "source": [
        "<a href=\"https://colab.research.google.com/github/ayaz-ncr/azure/blob/master/azure_text_analytics.ipynb\" target=\"_parent\"><img src=\"https://colab.research.google.com/assets/colab-badge.svg\" alt=\"Open In Colab\"/></a>"
      ]
    },
    {
      "cell_type": "code",
      "metadata": {
        "id": "MMnH1OBXP-Fu",
        "colab_type": "code",
        "colab": {}
      },
      "source": [
        "#!pip install azure"
      ],
      "execution_count": 0,
      "outputs": []
    },
    {
      "cell_type": "code",
      "metadata": {
        "id": "751B9WneSncj",
        "colab_type": "code",
        "colab": {}
      },
      "source": [
        "# pip install --upgrade azure-cognitiveservices-language-textanalytics"
      ],
      "execution_count": 0,
      "outputs": []
    },
    {
      "cell_type": "code",
      "metadata": {
        "id": "SfDPvrICToFe",
        "colab_type": "code",
        "colab": {}
      },
      "source": [
        "import os\n",
        "from azure.cognitiveservices.language.textanalytics import TextAnalyticsClient\n",
        "from msrest.authentication import CognitiveServicesCredentials"
      ],
      "execution_count": 0,
      "outputs": []
    },
    {
      "cell_type": "code",
      "metadata": {
        "id": "6b-NEndWUJeB",
        "colab_type": "code",
        "colab": {}
      },
      "source": [
        "subscription_key = \"beb6518ae1c54e0db820c0f5c5be7ecb\"\n",
        "endpoint = \"https://ayaz-text-analytics.cognitiveservices.azure.com/\""
      ],
      "execution_count": 0,
      "outputs": []
    },
    {
      "cell_type": "code",
      "metadata": {
        "id": "AI30xkxAVeBl",
        "colab_type": "code",
        "colab": {}
      },
      "source": [
        "def authenticateClient():\n",
        "    credentials = CognitiveServicesCredentials(subscription_key)\n",
        "    text_analytics_client = TextAnalyticsClient(\n",
        "        endpoint=endpoint, credentials=credentials)\n",
        "    return text_analytics_client"
      ],
      "execution_count": 0,
      "outputs": []
    },
    {
      "cell_type": "code",
      "metadata": {
        "id": "w7ApheFyWAxJ",
        "colab_type": "code",
        "colab": {
          "base_uri": "https://localhost:8080/",
          "height": 85
        },
        "outputId": "14bc6ffe-5753-4cd4-e763-967e50aa1251"
      },
      "source": [
        "def sentiment():\n",
        "    \n",
        "    client = authenticateClient()\n",
        "\n",
        "    try:\n",
        "        documents = [\n",
        "            {\"id\": \"1\", \"language\": \"en\", \"text\": \"I had the best day of my life.\"},\n",
        "            {\"id\": \"2\", \"language\": \"en\",\n",
        "                \"text\": \"This was a waste of my time. The speaker put me to sleep.\"},\n",
        "            {\"id\": \"3\", \"language\": \"es\", \"text\": \"No tengo dinero ni nada que dar...\"},\n",
        "            {\"id\": \"4\", \"language\": \"it\",\n",
        "                \"text\": \"L'hotel veneziano era meraviglioso. È un bellissimo pezzo di architettura.\"}\n",
        "        ]\n",
        "\n",
        "        response = client.sentiment(documents=documents)\n",
        "        for document in response.documents:\n",
        "            print(\"Document Id: \", document.id, \", Sentiment Score: \",\n",
        "                  \"{:.2f}\".format(document.score))\n",
        "\n",
        "    except Exception as err:\n",
        "        print(\"Encountered exception. {}\".format(err))\n",
        "sentiment()"
      ],
      "execution_count": 14,
      "outputs": [
        {
          "output_type": "stream",
          "text": [
            "Document Id:  1 , Sentiment Score:  0.87\n",
            "Document Id:  2 , Sentiment Score:  0.11\n",
            "Document Id:  3 , Sentiment Score:  0.44\n",
            "Document Id:  4 , Sentiment Score:  1.00\n"
          ],
          "name": "stdout"
        }
      ]
    },
    {
      "cell_type": "code",
      "metadata": {
        "id": "AHAQgxPwWCj9",
        "colab_type": "code",
        "colab": {
          "base_uri": "https://localhost:8080/",
          "height": 68
        },
        "outputId": "035e600b-82c8-4f85-8133-d2d12a2f0610"
      },
      "source": [
        "def language_detection():\n",
        "    client = authenticateClient()\n",
        "\n",
        "    try:\n",
        "        documents = [\n",
        "            {'id': '1', 'text': 'This is a document written in English.'},\n",
        "            {'id': '2', 'text': 'Este es un document escrito en Español.'},\n",
        "            {'id': '3', 'text': '这是一个用中文写的文件'}\n",
        "        ]\n",
        "        response = client.detect_language(documents=documents)\n",
        "\n",
        "        for document in response.documents:\n",
        "            print(\"Document Id: \", document.id, \", Language: \",\n",
        "                  document.detected_languages[0].name)\n",
        "\n",
        "    except Exception as err:\n",
        "        print(\"Encountered exception. {}\".format(err))\n",
        "language_detection()"
      ],
      "execution_count": 15,
      "outputs": [
        {
          "output_type": "stream",
          "text": [
            "Document Id:  1 , Language:  English\n",
            "Document Id:  2 , Language:  Spanish\n",
            "Document Id:  3 , Language:  Chinese_Simplified\n"
          ],
          "name": "stdout"
        }
      ]
    },
    {
      "cell_type": "code",
      "metadata": {
        "id": "11rsWfZ7WEap",
        "colab_type": "code",
        "colab": {
          "base_uri": "https://localhost:8080/",
          "height": 527
        },
        "outputId": "959f1b03-45f1-4d78-cbeb-1cb5044f8333"
      },
      "source": [
        "def entity_recognition():\n",
        "    \n",
        "    client = authenticateClient()\n",
        "\n",
        "    try:\n",
        "        documents = [\n",
        "            {\"id\": \"1\", \"language\": \"en\", \"text\": \"Microsoft was founded by Bill Gates and Paul Allen on April 4, 1975, to develop and sell BASIC interpreters for the Altair 8800.\"},\n",
        "            {\"id\": \"2\", \"language\": \"es\",\n",
        "                \"text\": \"La sede principal de Microsoft se encuentra en la ciudad de Redmond, a 21 kilómetros de Seattle.\"}\n",
        "        ]\n",
        "        response = client.entities(documents=documents)\n",
        "\n",
        "        for document in response.documents:\n",
        "            print(\"Document Id: \", document.id)\n",
        "            print(\"\\tKey Entities:\")\n",
        "            for entity in document.entities:\n",
        "                print(\"\\t\\t\", \"NAME: \", entity.name, \"\\tType: \",\n",
        "                      entity.type, \"\\tSub-type: \", entity.sub_type)\n",
        "                for match in entity.matches:\n",
        "                    print(\"\\t\\t\\tOffset: \", match.offset, \"\\tLength: \", match.length, \"\\tScore: \",\n",
        "                          \"{:.2f}\".format(match.entity_type_score))\n",
        "\n",
        "    except Exception as err:\n",
        "        print(\"Encountered exception. {}\".format(err))\n",
        "entity_recognition()"
      ],
      "execution_count": 16,
      "outputs": [
        {
          "output_type": "stream",
          "text": [
            "Document Id:  1\n",
            "\tKey Entities:\n",
            "\t\t NAME:  Microsoft \tType:  Organization \tSub-type:  None\n",
            "\t\t\tOffset:  0 \tLength:  9 \tScore:  1.00\n",
            "\t\t NAME:  Bill Gates \tType:  Person \tSub-type:  None\n",
            "\t\t\tOffset:  25 \tLength:  10 \tScore:  1.00\n",
            "\t\t NAME:  Paul Allen \tType:  Person \tSub-type:  None\n",
            "\t\t\tOffset:  40 \tLength:  10 \tScore:  1.00\n",
            "\t\t NAME:  April 4 \tType:  Other \tSub-type:  None\n",
            "\t\t\tOffset:  54 \tLength:  7 \tScore:  0.80\n",
            "\t\t NAME:  April 4, 1975 \tType:  DateTime \tSub-type:  Date\n",
            "\t\t\tOffset:  54 \tLength:  13 \tScore:  0.80\n",
            "\t\t NAME:  BASIC \tType:  Other \tSub-type:  None\n",
            "\t\t\tOffset:  89 \tLength:  5 \tScore:  0.80\n",
            "\t\t NAME:  Altair 8800 \tType:  Other \tSub-type:  None\n",
            "\t\t\tOffset:  116 \tLength:  11 \tScore:  0.80\n",
            "\t\t NAME:  Altair \tType:  Organization \tSub-type:  None\n",
            "\t\t\tOffset:  116 \tLength:  6 \tScore:  0.53\n",
            "\t\t NAME:  8800 \tType:  Quantity \tSub-type:  Number\n",
            "\t\t\tOffset:  123 \tLength:  4 \tScore:  0.80\n",
            "Document Id:  2\n",
            "\tKey Entities:\n",
            "\t\t NAME:  Microsoft \tType:  Organization \tSub-type:  None\n",
            "\t\t\tOffset:  21 \tLength:  9 \tScore:  1.00\n",
            "\t\t NAME:  Redmond (Washington) \tType:  Location \tSub-type:  None\n",
            "\t\t\tOffset:  60 \tLength:  7 \tScore:  0.99\n",
            "\t\t NAME:  21 kilómetros \tType:  Quantity \tSub-type:  Dimension\n",
            "\t\t\tOffset:  71 \tLength:  13 \tScore:  0.80\n",
            "\t\t NAME:  Seattle \tType:  Location \tSub-type:  None\n",
            "\t\t\tOffset:  88 \tLength:  7 \tScore:  1.00\n"
          ],
          "name": "stdout"
        }
      ]
    },
    {
      "cell_type": "code",
      "metadata": {
        "id": "3LH-zo-wWGQE",
        "colab_type": "code",
        "colab": {
          "base_uri": "https://localhost:8080/",
          "height": 357
        },
        "outputId": "22aa753d-a719-4d73-8ab8-f1e7d7276b32"
      },
      "source": [
        "def key_phrases():\n",
        "    \n",
        "    client = authenticateClient()\n",
        "\n",
        "    try:\n",
        "        documents = [\n",
        "            {\"id\": \"1\", \"language\": \"ja\", \"text\": \"猫は幸せ\"},\n",
        "            {\"id\": \"2\", \"language\": \"de\",\n",
        "                \"text\": \"Fahrt nach Stuttgart und dann zum Hotel zu Fu.\"},\n",
        "            {\"id\": \"3\", \"language\": \"en\",\n",
        "                \"text\": \"My cat might need to see a veterinarian.\"},\n",
        "            {\"id\": \"4\", \"language\": \"es\", \"text\": \"A mi me encanta el fútbol!\"}\n",
        "        ]\n",
        "\n",
        "        for document in documents:\n",
        "            print(\n",
        "                \"Asking key-phrases on '{}' (id: {})\".format(document['text'], document['id']))\n",
        "\n",
        "        response = client.key_phrases(documents=documents)\n",
        "\n",
        "        for document in response.documents:\n",
        "            print(\"Document Id: \", document.id)\n",
        "            print(\"\\tKey Phrases:\")\n",
        "            for phrase in document.key_phrases:\n",
        "                print(\"\\t\\t\", phrase)\n",
        "\n",
        "    except Exception as err:\n",
        "        print(\"Encountered exception. {}\".format(err))\n",
        "key_phrases()"
      ],
      "execution_count": 17,
      "outputs": [
        {
          "output_type": "stream",
          "text": [
            "Asking key-phrases on '猫は幸せ' (id: 1)\n",
            "Asking key-phrases on 'Fahrt nach Stuttgart und dann zum Hotel zu Fu.' (id: 2)\n",
            "Asking key-phrases on 'My cat might need to see a veterinarian.' (id: 3)\n",
            "Asking key-phrases on 'A mi me encanta el fútbol!' (id: 4)\n",
            "Document Id:  1\n",
            "\tKey Phrases:\n",
            "\t\t 幸せ\n",
            "Document Id:  2\n",
            "\tKey Phrases:\n",
            "\t\t Stuttgart\n",
            "\t\t Hotel\n",
            "\t\t Fahrt\n",
            "\t\t Fu\n",
            "Document Id:  3\n",
            "\tKey Phrases:\n",
            "\t\t cat\n",
            "\t\t veterinarian\n",
            "Document Id:  4\n",
            "\tKey Phrases:\n",
            "\t\t fútbol\n"
          ],
          "name": "stdout"
        }
      ]
    }
  ]
}