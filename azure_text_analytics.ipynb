{
  "nbformat": 4,
  "nbformat_minor": 0,
  "metadata": {
    "colab": {
      "name": "azure-text-analytics.ipynb",
      "provenance": [],
      "collapsed_sections": [],
      "authorship_tag": "ABX9TyOv6Eh/EjbAWXMUIQm8w1x4",
      "include_colab_link": true
    },
    "kernelspec": {
      "name": "python3",
      "display_name": "Python 3"
    }
  },
  "cells": [
    {
      "cell_type": "markdown",
      "metadata": {
        "id": "view-in-github",
        "colab_type": "text"
      },
      "source": [
        "<a href=\"https://colab.research.google.com/github/ayaz-ncr/azure/blob/master/azure_text_analytics.ipynb\" target=\"_parent\"><img src=\"https://colab.research.google.com/assets/colab-badge.svg\" alt=\"Open In Colab\"/></a>"
      ]
    },
    {
      "cell_type": "code",
      "metadata": {
        "id": "MMnH1OBXP-Fu",
        "colab_type": "code",
        "colab": {}
      },
      "source": [
        "#!pip install azure"
      ],
      "execution_count": 0,
      "outputs": []
    },
    {
      "cell_type": "code",
      "metadata": {
        "id": "751B9WneSncj",
        "colab_type": "code",
        "colab": {}
      },
      "source": [
        "# pip install --upgrade azure-cognitiveservices-language-textanalytics"
      ],
      "execution_count": 0,
      "outputs": []
    },
    {
      "cell_type": "code",
      "metadata": {
        "id": "A7UJM0OKfeej",
        "colab_type": "code",
        "colab": {
          "resources": {
            "http://localhost:8080/nbextensions/google.colab/files.js": {
              "data": "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",
              "ok": true,
              "headers": [
                [
                  "content-type",
                  "application/javascript"
                ]
              ],
              "status": 200,
              "status_text": ""
            }
          },
          "base_uri": "https://localhost:8080/",
          "height": 74
        },
        "outputId": "29e62687-ace3-4005-b5aa-63406d0a8f01"
      },
      "source": [
        "from google.colab import files\n",
        "uploaded = files.upload()"
      ],
      "execution_count": 24,
      "outputs": [
        {
          "output_type": "display_data",
          "data": {
            "text/html": [
              "\n",
              "     <input type=\"file\" id=\"files-81e6955b-47fc-4a9b-926f-501e4e4644e8\" name=\"files[]\" multiple disabled />\n",
              "     <output id=\"result-81e6955b-47fc-4a9b-926f-501e4e4644e8\">\n",
              "      Upload widget is only available when the cell has been executed in the\n",
              "      current browser session. Please rerun this cell to enable.\n",
              "      </output>\n",
              "      <script src=\"/nbextensions/google.colab/files.js\"></script> "
            ],
            "text/plain": [
              "<IPython.core.display.HTML object>"
            ]
          },
          "metadata": {
            "tags": []
          }
        },
        {
          "output_type": "stream",
          "text": [
            "Saving chat-transcripts-april.csv to chat-transcripts-april.csv\n"
          ],
          "name": "stdout"
        }
      ]
    },
    {
      "cell_type": "code",
      "metadata": {
        "id": "6c6nvLKqf1Ol",
        "colab_type": "code",
        "colab": {}
      },
      "source": [
        "# Importing the dataset\n",
        "import pandas as pd\n",
        "dataset = pd.read_csv('chat-transcripts-april.csv', encoding='latin-1')"
      ],
      "execution_count": 0,
      "outputs": []
    },
    {
      "cell_type": "code",
      "metadata": {
        "id": "YaN_IlaAgBig",
        "colab_type": "code",
        "colab": {
          "base_uri": "https://localhost:8080/",
          "height": 204
        },
        "outputId": "23e6d066-c97f-466a-d701-b93326d7efe4"
      },
      "source": [
        "dataset.head()"
      ],
      "execution_count": 34,
      "outputs": [
        {
          "output_type": "execute_result",
          "data": {
            "text/html": [
              "<div>\n",
              "<style scoped>\n",
              "    .dataframe tbody tr th:only-of-type {\n",
              "        vertical-align: middle;\n",
              "    }\n",
              "\n",
              "    .dataframe tbody tr th {\n",
              "        vertical-align: top;\n",
              "    }\n",
              "\n",
              "    .dataframe thead th {\n",
              "        text-align: right;\n",
              "    }\n",
              "</style>\n",
              "<table border=\"1\" class=\"dataframe\">\n",
              "  <thead>\n",
              "    <tr style=\"text-align: right;\">\n",
              "      <th></th>\n",
              "      <th>date</th>\n",
              "      <th>Transcript</th>\n",
              "    </tr>\n",
              "  </thead>\n",
              "  <tbody>\n",
              "    <tr>\n",
              "      <th>0</th>\n",
              "      <td>4/1/2019</td>\n",
              "      <td>07:58:44 info: YouÕre now chatting with Ace Vi...</td>\n",
              "    </tr>\n",
              "    <tr>\n",
              "      <th>1</th>\n",
              "      <td>4/1/2019</td>\n",
              "      <td>07:23:03 info: YouÕre now chatting with Ace Vi...</td>\n",
              "    </tr>\n",
              "    <tr>\n",
              "      <th>2</th>\n",
              "      <td>4/1/2019</td>\n",
              "      <td>07:11:10 info: YouÕre now chatting with Ace Vi...</td>\n",
              "    </tr>\n",
              "    <tr>\n",
              "      <th>3</th>\n",
              "      <td>4/1/2019</td>\n",
              "      <td>06:27:56 info: YouÕre now chatting with Ace Vi...</td>\n",
              "    </tr>\n",
              "    <tr>\n",
              "      <th>4</th>\n",
              "      <td>4/1/2019</td>\n",
              "      <td>05:59:23 info: YouÕre now chatting with Ace Vi...</td>\n",
              "    </tr>\n",
              "  </tbody>\n",
              "</table>\n",
              "</div>"
            ],
            "text/plain": [
              "       date                                         Transcript\n",
              "0  4/1/2019  07:58:44 info: YouÕre now chatting with Ace Vi...\n",
              "1  4/1/2019  07:23:03 info: YouÕre now chatting with Ace Vi...\n",
              "2  4/1/2019  07:11:10 info: YouÕre now chatting with Ace Vi...\n",
              "3  4/1/2019  06:27:56 info: YouÕre now chatting with Ace Vi...\n",
              "4  4/1/2019  05:59:23 info: YouÕre now chatting with Ace Vi..."
            ]
          },
          "metadata": {
            "tags": []
          },
          "execution_count": 34
        }
      ]
    },
    {
      "cell_type": "code",
      "metadata": {
        "id": "A1SWIkW4hrde",
        "colab_type": "code",
        "colab": {}
      },
      "source": [
        "dataset.rename(columns = {'Start (UTC)':'Date'}, inplace = True) "
      ],
      "execution_count": 0,
      "outputs": []
    },
    {
      "cell_type": "code",
      "metadata": {
        "id": "5ehtTunFg5UV",
        "colab_type": "code",
        "colab": {}
      },
      "source": [
        "dataset1 = dataset.to_dict('records')"
      ],
      "execution_count": 0,
      "outputs": []
    },
    {
      "cell_type": "code",
      "metadata": {
        "id": "qEsqWh54jSZW",
        "colab_type": "code",
        "colab": {
          "base_uri": "https://localhost:8080/",
          "height": 71
        },
        "outputId": "9b9f0749-d56b-4086-be4f-7f5e44f1d073"
      },
      "source": [
        "dataset1[1]"
      ],
      "execution_count": 41,
      "outputs": [
        {
          "output_type": "execute_result",
          "data": {
            "text/plain": [
              "{'Transcript': \"07:23:03 info: YouÕre now chatting with Ace Virtual Assistant\\r\\n07:23:04 info: Telstra will store a copy of every message you send and receive.\\r\\n07:23:04 Ace: What can I assist with today?\\r\\n07:23:04 Ace: \\r\\n07:23:08 You: fdo\\r\\n07:23:10 Ace: Please select your type of work\\r\\n07:23:11 Ace: null\\r\\n07:24:04 You: I&M\\r\\n07:24:05 Ace: Please select your location\\r\\n07:24:05 Ace: null\\r\\n07:24:06 You: WA\\r\\n07:24:08 You: WA\\r\\n07:24:08 Ace: Thank you, let me connect you with someone to help with this. I'll also pass on the history of our chat.\\r\\n07:24:09 Ace: So I can transfer you, please provide me your ID number\\r\\n07:24:11 You: d326183\\r\\n07:24:14 Ace: Thanks. IÕll transfer you now.\\r\\n07:24:14 Ace: \\r\\n07:24:15 Ace: Escalation: N/APerceived Tone: SadnessReason: ChatInProgressDomain: N/A\\r\\n07:24:15 info: Please wait while your chat is transferred to the appropriate group.\\r\\n07:24:17 info: You are now chatting with Renee - D879976.\\r\\n07:25:20 WA, d326183: Hi Renee, I've run out of work again\\r\\n07:25:21 Renee - D879976: <span>Hi, Welcome to the Workflow Operations Centre</span>\\r\\n07:26:42 Renee - D879976: i still dont have anything\\r\\n07:26:59 WA, d326183: ok I'll\\r\\n07:27:12 WA, d326183: I'll do admin for the afternoon, will see if anybody needs an assist too\\r\\n07:27:17 Renee - D879976: <span>There is currently no work available in your area. Please contact your team leader for further instructions.</span>\\r\\n07:27:25 WA, d326183: sure, thanks\\r\\n07:27:35 Renee - D879976: <span>Goodbye</span>\\r\\n07:27:38 info: Thank you for chatting with us.\\r\\n\",\n",
              " 'date': '4/1/2019'}"
            ]
          },
          "metadata": {
            "tags": []
          },
          "execution_count": 41
        }
      ]
    },
    {
      "cell_type": "code",
      "metadata": {
        "id": "l6mgNwDShA3b",
        "colab_type": "code",
        "colab": {
          "base_uri": "https://localhost:8080/",
          "height": 34
        },
        "outputId": "a24841fa-0993-4c62-cb6b-de9a07f51226"
      },
      "source": [
        "type(dataset1)"
      ],
      "execution_count": 37,
      "outputs": [
        {
          "output_type": "execute_result",
          "data": {
            "text/plain": [
              "list"
            ]
          },
          "metadata": {
            "tags": []
          },
          "execution_count": 37
        }
      ]
    },
    {
      "cell_type": "code",
      "metadata": {
        "id": "SfDPvrICToFe",
        "colab_type": "code",
        "colab": {}
      },
      "source": [
        "import os\n",
        "from azure.cognitiveservices.language.textanalytics import TextAnalyticsClient\n",
        "from msrest.authentication import CognitiveServicesCredentials"
      ],
      "execution_count": 0,
      "outputs": []
    },
    {
      "cell_type": "code",
      "metadata": {
        "id": "6b-NEndWUJeB",
        "colab_type": "code",
        "colab": {}
      },
      "source": [
        "subscription_key = \"beb6518ae1c54e0db820c0f5c5be7ecb\"\n",
        "endpoint = \"https://ayaz-text-analytics.cognitiveservices.azure.com/\""
      ],
      "execution_count": 0,
      "outputs": []
    },
    {
      "cell_type": "code",
      "metadata": {
        "id": "AI30xkxAVeBl",
        "colab_type": "code",
        "colab": {}
      },
      "source": [
        "def authenticateClient():\n",
        "    credentials = CognitiveServicesCredentials(subscription_key)\n",
        "    text_analytics_client = TextAnalyticsClient(\n",
        "        endpoint=endpoint, credentials=credentials)\n",
        "    return text_analytics_client"
      ],
      "execution_count": 0,
      "outputs": []
    },
    {
      "cell_type": "code",
      "metadata": {
        "id": "w7ApheFyWAxJ",
        "colab_type": "code",
        "colab": {
          "base_uri": "https://localhost:8080/",
          "height": 119
        },
        "outputId": "3fd56a3e-cc42-462b-8573-c20514915a0c"
      },
      "source": [
        "def sentiment():\n",
        "    \n",
        "    client = authenticateClient()\n",
        "\n",
        "    try:\n",
        "        documents = [\n",
        "            {\"id\": \"1\", \"language\": \"en\", \"text\": \"I had the best day of my life.\"},\n",
        "            {\"id\": \"2\", \"language\": \"en\",\n",
        "                \"text\": \"This was a waste of my time. The speaker put me to sleep.\"},\n",
        "            {\"id\": \"3\", \"language\": \"es\", \"text\": \"No tengo dinero ni nada que dar...\"},\n",
        "            {\"id\": \"4\", \"language\": \"it\",\n",
        "                \"text\": \"L'hotel veneziano era meraviglioso. È un bellissimo pezzo di architettura.\"},\n",
        "            {\"id\": \"5\", \"language\": \"en\",\n",
        "               \"text\": \"info chatting ace virtual assistant info telstra store copy every message send receive ace assist today ace workflow ace please select type work ace null ace please select location ace null wa ace thank let connect someone help also pass history chat ace transfer please provide id number c ace thanks transfer ace ace escalation n aperceived tone sadnessreason chatinprogressdomain n info please wait chat transferred appropriate group info chatting harpreet harpreet hi rod harpreet help c hi work harpreet rod c kalgoorlie harpreet hey rod anything assign time harpreet please elearns c yes bye\"}\n",
        "        ]\n",
        "        print(documents[1])\n",
        "        response = client.sentiment(documents=documents)\n",
        "        for document in response.documents:\n",
        "            print(\"Document Id: \", document.id, \", Sentiment Score: \",\n",
        "                  \"{:.2f}\".format(document.score))\n",
        "\n",
        "    except Exception as err:\n",
        "        print(\"Encountered exception. {}\".format(err))\n",
        "sentiment()\n"
      ],
      "execution_count": 50,
      "outputs": [
        {
          "output_type": "stream",
          "text": [
            "{'id': '2', 'language': 'en', 'text': 'This was a waste of my time. The speaker put me to sleep.'}\n",
            "Document Id:  1 , Sentiment Score:  0.87\n",
            "Document Id:  2 , Sentiment Score:  0.11\n",
            "Document Id:  5 , Sentiment Score:  0.89\n",
            "Document Id:  3 , Sentiment Score:  0.44\n",
            "Document Id:  4 , Sentiment Score:  1.00\n"
          ],
          "name": "stdout"
        }
      ]
    },
    {
      "cell_type": "code",
      "metadata": {
        "id": "knJ0hfrNkJ5f",
        "colab_type": "code",
        "colab": {
          "base_uri": "https://localhost:8080/",
          "height": 163
        },
        "outputId": "be27fea5-9daf-4f58-d1c0-dd20c7d2b222"
      },
      "source": [
        "documents[1]"
      ],
      "execution_count": 48,
      "outputs": [
        {
          "output_type": "error",
          "ename": "NameError",
          "evalue": "ignored",
          "traceback": [
            "\u001b[0;31m---------------------------------------------------------------------------\u001b[0m",
            "\u001b[0;31mNameError\u001b[0m                                 Traceback (most recent call last)",
            "\u001b[0;32m<ipython-input-48-2ec73481b919>\u001b[0m in \u001b[0;36m<module>\u001b[0;34m()\u001b[0m\n\u001b[0;32m----> 1\u001b[0;31m \u001b[0mdocuments\u001b[0m\u001b[0;34m[\u001b[0m\u001b[0;36m1\u001b[0m\u001b[0;34m]\u001b[0m\u001b[0;34m\u001b[0m\u001b[0;34m\u001b[0m\u001b[0m\n\u001b[0m",
            "\u001b[0;31mNameError\u001b[0m: name 'documents' is not defined"
          ]
        }
      ]
    },
    {
      "cell_type": "code",
      "metadata": {
        "id": "lgpBupFMim9A",
        "colab_type": "code",
        "colab": {
          "base_uri": "https://localhost:8080/",
          "height": 34
        },
        "outputId": "99fef233-1c5e-47e1-fc16-58ed854e24bd"
      },
      "source": [
        "def sentiment():\n",
        "    \n",
        "    client = authenticateClient()\n",
        "\n",
        "    try:\n",
        "        documents = dataset1\n",
        "        response = client.sentiment(documents=documents)\n",
        "        for document in response.documents:\n",
        "            print(\"Document date: \", document.date, \", Sentiment Score: \",\n",
        "                  \"{:.2f}\".format(document.score))\n",
        "\n",
        "    except Exception as err:\n",
        "        print(\"Encountered exception. {}\".format(err))\n",
        "sentiment()"
      ],
      "execution_count": 39,
      "outputs": [
        {
          "output_type": "stream",
          "text": [
            "Encountered exception. Operation returned an invalid status code 'Bad Request'\n"
          ],
          "name": "stdout"
        }
      ]
    },
    {
      "cell_type": "code",
      "metadata": {
        "id": "AHAQgxPwWCj9",
        "colab_type": "code",
        "colab": {
          "base_uri": "https://localhost:8080/",
          "height": 85
        },
        "outputId": "1599a084-c06f-4bd9-b878-9d6a40abf93c"
      },
      "source": [
        "def language_detection():\n",
        "    client = authenticateClient()\n",
        "\n",
        "    try:\n",
        "        documents = [\n",
        "            {'id': '1', 'text': 'This is a document written in English.'},\n",
        "            {'id': '2', 'text': 'Este es un document escrito en Español.'},\n",
        "            {'id': '3', 'text': '这是一个用中文写的文件'},\n",
        "            {'id': '4', 'text': 'info chatting ace virtual assistant info telstra store copy every message send receive ace assist today ace workflow ace please select type work ace null ace please select location ace null wa ace thank let connect someone help also pass history chat ace transfer please provide id number c ace thanks transfer ace ace escalation n aperceived tone sadnessreason chatinprogressdomain n info please wait chat transferred appropriate group info chatting harpreet harpreet hi rod harpreet help c hi work harpreet rod c kalgoorlie harpreet hey rod anything assign time harpreet please elearns c yes bye'}\n",
        "        ]\n",
        "        response = client.detect_language(documents=documents)\n",
        "\n",
        "        for document in response.documents:\n",
        "            print(\"Document Id: \", document.id, \", Language: \",\n",
        "                  document.detected_languages[0].name)\n",
        "\n",
        "    except Exception as err:\n",
        "        print(\"Encountered exception. {}\".format(err))\n",
        "language_detection()"
      ],
      "execution_count": 22,
      "outputs": [
        {
          "output_type": "stream",
          "text": [
            "Document Id:  1 , Language:  English\n",
            "Document Id:  2 , Language:  Spanish\n",
            "Document Id:  3 , Language:  Chinese_Simplified\n",
            "Document Id:  4 , Language:  English\n"
          ],
          "name": "stdout"
        }
      ]
    },
    {
      "cell_type": "code",
      "metadata": {
        "id": "11rsWfZ7WEap",
        "colab_type": "code",
        "colab": {
          "base_uri": "https://localhost:8080/",
          "height": 646
        },
        "outputId": "de7017d7-1ae5-4ddb-839f-32030fb974f7"
      },
      "source": [
        "def entity_recognition():\n",
        "    \n",
        "    client = authenticateClient()\n",
        "\n",
        "    try:\n",
        "        documents = [\n",
        "            {\"id\": \"1\", \"language\": \"en\", \"text\": \"Microsoft was founded by Bill Gates and Paul Allen on April 4, 1975, to develop and sell BASIC interpreters for the Altair 8800.\"},\n",
        "            {\"id\": \"2\", \"language\": \"es\",\n",
        "                \"text\": \"La sede principal de Microsoft se encuentra en la ciudad de Redmond, a 21 kilómetros de Seattle.\"},\n",
        "            {\"id\": \"3\", \"language\": \"en\",\n",
        "                \"text\": \"info chatting ace virtual assistant info telstra store copy every message send receive ace assist today ace workflow ace please select type work ace null ace please select location ace null wa ace thank let connect someone help also pass history chat ace transfer please provide id number c ace thanks transfer ace ace escalation n aperceived tone sadnessreason chatinprogressdomain n info please wait chat transferred appropriate group info chatting harpreet harpreet hi rod harpreet help c hi work harpreet rod c kalgoorlie harpreet hey rod anything assign time harpreet please elearns c yes bye\"},  \n",
        "        ]\n",
        "        response = client.entities(documents=documents)\n",
        "\n",
        "        for document in response.documents:\n",
        "            print(\"Document Id: \", document.id)\n",
        "            print(\"\\tKey Entities:\")\n",
        "            for entity in document.entities:\n",
        "                print(\"\\t\\t\", \"NAME: \", entity.name, \"\\tType: \",\n",
        "                      entity.type, \"\\tSub-type: \", entity.sub_type)\n",
        "                for match in entity.matches:\n",
        "                    print(\"\\t\\t\\tOffset: \", match.offset, \"\\tLength: \", match.length, \"\\tScore: \",\n",
        "                          \"{:.2f}\".format(match.entity_type_score))\n",
        "\n",
        "    except Exception as err:\n",
        "        print(\"Encountered exception. {}\".format(err))\n",
        "entity_recognition()"
      ],
      "execution_count": 23,
      "outputs": [
        {
          "output_type": "stream",
          "text": [
            "Document Id:  1\n",
            "\tKey Entities:\n",
            "\t\t NAME:  Microsoft \tType:  Organization \tSub-type:  None\n",
            "\t\t\tOffset:  0 \tLength:  9 \tScore:  1.00\n",
            "\t\t NAME:  Bill Gates \tType:  Person \tSub-type:  None\n",
            "\t\t\tOffset:  25 \tLength:  10 \tScore:  1.00\n",
            "\t\t NAME:  Paul Allen \tType:  Person \tSub-type:  None\n",
            "\t\t\tOffset:  40 \tLength:  10 \tScore:  1.00\n",
            "\t\t NAME:  April 4 \tType:  Other \tSub-type:  None\n",
            "\t\t\tOffset:  54 \tLength:  7 \tScore:  0.80\n",
            "\t\t NAME:  April 4, 1975 \tType:  DateTime \tSub-type:  Date\n",
            "\t\t\tOffset:  54 \tLength:  13 \tScore:  0.80\n",
            "\t\t NAME:  BASIC \tType:  Other \tSub-type:  None\n",
            "\t\t\tOffset:  89 \tLength:  5 \tScore:  0.80\n",
            "\t\t NAME:  Altair 8800 \tType:  Other \tSub-type:  None\n",
            "\t\t\tOffset:  116 \tLength:  11 \tScore:  0.80\n",
            "\t\t NAME:  Altair \tType:  Organization \tSub-type:  None\n",
            "\t\t\tOffset:  116 \tLength:  6 \tScore:  0.53\n",
            "\t\t NAME:  8800 \tType:  Quantity \tSub-type:  Number\n",
            "\t\t\tOffset:  123 \tLength:  4 \tScore:  0.80\n",
            "Document Id:  2\n",
            "\tKey Entities:\n",
            "\t\t NAME:  Microsoft \tType:  Organization \tSub-type:  None\n",
            "\t\t\tOffset:  21 \tLength:  9 \tScore:  1.00\n",
            "\t\t NAME:  Redmond (Washington) \tType:  Location \tSub-type:  None\n",
            "\t\t\tOffset:  60 \tLength:  7 \tScore:  0.99\n",
            "\t\t NAME:  21 kilómetros \tType:  Quantity \tSub-type:  Dimension\n",
            "\t\t\tOffset:  71 \tLength:  13 \tScore:  0.80\n",
            "\t\t NAME:  Seattle \tType:  Location \tSub-type:  None\n",
            "\t\t\tOffset:  88 \tLength:  7 \tScore:  1.00\n",
            "Document Id:  3\n",
            "\tKey Entities:\n",
            "\t\t NAME:  today \tType:  DateTime \tSub-type:  Date\n",
            "\t\t\tOffset:  98 \tLength:  5 \tScore:  0.80\n",
            "\t\t NAME:  rod \tType:  Location \tSub-type:  None\n",
            "\t\t\tOffset:  509 \tLength:  3 \tScore:  0.44\n",
            "\t\t\tOffset:  539 \tLength:  3 \tScore:  0.44\n"
          ],
          "name": "stdout"
        }
      ]
    },
    {
      "cell_type": "code",
      "metadata": {
        "id": "3LH-zo-wWGQE",
        "colab_type": "code",
        "colab": {
          "base_uri": "https://localhost:8080/",
          "height": 870
        },
        "outputId": "cc999e36-eb24-4260-e9a1-08b589456735"
      },
      "source": [
        "def key_phrases():\n",
        "    \n",
        "    client = authenticateClient()\n",
        "\n",
        "    try:\n",
        "        documents = [\n",
        "            {\"id\": \"1\", \"language\": \"ja\", \"text\": \"猫は幸せ\"},\n",
        "            {\"id\": \"2\", \"language\": \"de\",\n",
        "                \"text\": \"Fahrt nach Stuttgart und dann zum Hotel zu Fu.\"},\n",
        "            {\"id\": \"3\", \"language\": \"en\",\n",
        "                \"text\": \"My cat might need to see a veterinarian.\"},\n",
        "            {\"id\": \"4\", \"language\": \"es\", \"text\": \"A mi me encanta el fútbol!\"},\n",
        "            {\"id\": \"5\", \"language\": \"en\", \"text\": \"Free up your support agents to take care of more difficult and specialized calls. By automating more mundane tasks and providing your agents with real time information, workflows, and turn-by-turn guidance, Contact Center AI empowers them to provide more specialized customer care\"},\n",
        "             {\"id\": \"6\", \"language\": \"en\", \"text\": \"info chat ace virtual assist info telstra store copi everi messag send receiv ace assist today ace workflow ace pleas select type work ace null ace pleas select locat ace null wa ace thank let connect someon help also pass histori chat ace transfer pleas provid id number c ace thank transfer ace ace escal n aperceiv tone sadnessreason chatinprogressdomain n info pleas wait chat transfer appropri group info chat harpreet harpreet hi rod harpreet help c hi work harpreet rod c kalgoorli harpreet hey rod anyth assign time harpreet pleas elearn c ye bye\"}\n",
        "        ]\n",
        "\n",
        "        for document in documents:\n",
        "            print(\n",
        "                \"Asking key-phrases on '{}' (id: {})\".format(document['text'], document['id']))\n",
        "\n",
        "        response = client.key_phrases(documents=documents)\n",
        "\n",
        "        for document in response.documents:\n",
        "            print(\"Document Id: \", document.id)\n",
        "            print(\"\\tKey Phrases:\")\n",
        "            for phrase in document.key_phrases:\n",
        "                print(\"\\t\\t\", phrase)\n",
        "\n",
        "    except Exception as err:\n",
        "        print(\"Encountered exception. {}\".format(err))\n",
        "key_phrases()"
      ],
      "execution_count": 20,
      "outputs": [
        {
          "output_type": "stream",
          "text": [
            "Asking key-phrases on '猫は幸せ' (id: 1)\n",
            "Asking key-phrases on 'Fahrt nach Stuttgart und dann zum Hotel zu Fu.' (id: 2)\n",
            "Asking key-phrases on 'My cat might need to see a veterinarian.' (id: 3)\n",
            "Asking key-phrases on 'A mi me encanta el fútbol!' (id: 4)\n",
            "Asking key-phrases on 'Free up your support agents to take care of more difficult and specialized calls. By automating more mundane tasks and providing your agents with real time information, workflows, and turn-by-turn guidance, Contact Center AI empowers them to provide more specialized customer care' (id: 5)\n",
            "Asking key-phrases on 'info chat ace virtual assist info telstra store copi everi messag send receiv ace assist today ace workflow ace pleas select type work ace null ace pleas select locat ace null wa ace thank let connect someon help also pass histori chat ace transfer pleas provid id number c ace thank transfer ace ace escal n aperceiv tone sadnessreason chatinprogressdomain n info pleas wait chat transfer appropri group info chat harpreet harpreet hi rod harpreet help c hi work harpreet rod c kalgoorli harpreet hey rod anyth assign time harpreet pleas elearn c ye bye' (id: 6)\n",
            "Document Id:  1\n",
            "\tKey Phrases:\n",
            "\t\t 幸せ\n",
            "Document Id:  2\n",
            "\tKey Phrases:\n",
            "\t\t Stuttgart\n",
            "\t\t Hotel\n",
            "\t\t Fahrt\n",
            "\t\t Fu\n",
            "Document Id:  3\n",
            "\tKey Phrases:\n",
            "\t\t cat\n",
            "\t\t veterinarian\n",
            "Document Id:  4\n",
            "\tKey Phrases:\n",
            "\t\t fútbol\n",
            "Document Id:  5\n",
            "\tKey Phrases:\n",
            "\t\t specialized customer care\n",
            "\t\t support agents\n",
            "\t\t specialized calls\n",
            "\t\t real time information\n",
            "\t\t workflows\n",
            "\t\t Contact Center AI\n",
            "\t\t guidance\n",
            "\t\t mundane tasks\n",
            "Document Id:  6\n",
            "\tKey Phrases:\n",
            "\t\t ace workflow ace pleas\n",
            "\t\t null ace pleas\n",
            "\t\t receiv ace assist\n",
            "\t\t null wa ace\n",
            "\t\t histori chat ace transfer pleas provid id number c ace\n",
            "\t\t harpreet rod c kalgoorli harpreet\n",
            "\t\t transfer ace ace escal n aperceiv tone sadnessreason chatinprogressdomain n info pleas\n",
            "\t\t rod harpreet help c\n",
            "\t\t chat transfer appropri group info chat harpreet harpreet\n",
            "\t\t info chat ace virtual assist info telstra store copi everi messag\n",
            "\t\t rod anyth assign time harpreet pleas\n",
            "\t\t c ye bye\n",
            "\t\t type work\n",
            "\t\t locat\n",
            "\t\t someon\n"
          ],
          "name": "stdout"
        }
      ]
    }
  ]
}